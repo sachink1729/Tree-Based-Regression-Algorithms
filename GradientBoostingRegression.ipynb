{
 "cells": [
  {
   "cell_type": "code",
   "execution_count": 1,
   "metadata": {},
   "outputs": [],
   "source": [
    "import numpy as np\n",
    "import pandas as pd"
   ]
  },
  {
   "cell_type": "code",
   "execution_count": 2,
   "metadata": {},
   "outputs": [],
   "source": [
    "data = pd.read_csv(\"mpg.csv\")"
   ]
  },
  {
   "cell_type": "code",
   "execution_count": 3,
   "metadata": {},
   "outputs": [],
   "source": [
    "data = data[data.horsepower != \"?\"]"
   ]
  },
  {
   "cell_type": "code",
   "execution_count": 4,
   "metadata": {},
   "outputs": [
    {
     "data": {
      "text/plain": [
       "mpg             float64\n",
       "cylinders         int64\n",
       "displacement    float64\n",
       "horsepower       object\n",
       "weight            int64\n",
       "acceleration    float64\n",
       "model_year        int64\n",
       "origin            int64\n",
       "name             object\n",
       "dtype: object"
      ]
     },
     "execution_count": 4,
     "metadata": {},
     "output_type": "execute_result"
    }
   ],
   "source": [
    "data.dtypes"
   ]
  },
  {
   "cell_type": "code",
   "execution_count": 5,
   "metadata": {},
   "outputs": [],
   "source": [
    "data.horsepower = data.horsepower.astype(\"float\")      #object type has been changed to float"
   ]
  },
  {
   "cell_type": "code",
   "execution_count": 6,
   "metadata": {},
   "outputs": [],
   "source": [
    "from sklearn.metrics import mean_squared_error, r2_score"
   ]
  },
  {
   "cell_type": "code",
   "execution_count": 7,
   "metadata": {},
   "outputs": [],
   "source": [
    "from sklearn.model_selection import train_test_split\n",
    "df=data\n",
    "training_features = [ 'acceleration','origin','displacement','model_year','horsepower']\n",
    "target = 'mpg'\n",
    "\n",
    "X_train, X_test, Y_train, Y_test = train_test_split(df[training_features],\n",
    "                                                    df[target],\n",
    "                                                     test_size=0.10, random_state=169)"
   ]
  },
  {
   "cell_type": "code",
   "execution_count": 8,
   "metadata": {},
   "outputs": [],
   "source": [
    "from sklearn.ensemble import AdaBoostRegressor\n",
    "model = AdaBoostRegressor(n_estimators=22)\n",
    "\n",
    "#n_estimators here mean weak learners that will be clubbed into one strong model\n",
    "# but instead of using the normal approach the resultant storng model will be arrived at\n",
    "# by gradient updatation at each iteration."
   ]
  },
  {
   "cell_type": "code",
   "execution_count": 9,
   "metadata": {},
   "outputs": [
    {
     "data": {
      "text/plain": [
       "AdaBoostRegressor(n_estimators=22)"
      ]
     },
     "execution_count": 9,
     "metadata": {},
     "output_type": "execute_result"
    }
   ],
   "source": [
    "model.fit(X_train,Y_train)"
   ]
  },
  {
   "cell_type": "code",
   "execution_count": 10,
   "metadata": {},
   "outputs": [
    {
     "name": "stdout",
     "output_type": "stream",
     "text": [
      "Mean squared error: 2.57\n",
      "R Square score: 0.95\n"
     ]
    }
   ],
   "source": [
    "predicted=model.predict(X_test)\n",
    "print(\"Mean squared error: %.2f\"\n",
    "              % mean_squared_error(Y_test, predicted))\n",
    "print('R Square score: %.2f' % r2_score(Y_test, predicted))\n",
    "\n",
    "#we should get a better rsquare value than adaboost"
   ]
  },
  {
   "cell_type": "code",
   "execution_count": 11,
   "metadata": {},
   "outputs": [
    {
     "data": {
      "text/plain": [
       "array([1.58957417, 1.27866052, 1.53365634, 0.62086024, 0.75371405,\n",
       "       0.57710671, 1.10522627, 1.11618029, 0.74546962, 0.97310982,\n",
       "       0.75646055, 0.46110106, 0.63366458, 0.76627044, 0.80871597,\n",
       "       0.98527962, 0.39759408, 0.54234432, 0.8876775 , 0.4128086 ,\n",
       "       0.52733661, 0.22494974])"
      ]
     },
     "execution_count": 11,
     "metadata": {},
     "output_type": "execute_result"
    }
   ],
   "source": [
    "#to see the weights of the weak learners(models)\n",
    "model.estimator_weights_"
   ]
  },
  {
   "cell_type": "code",
   "execution_count": 14,
   "metadata": {},
   "outputs": [
    {
     "data": {
      "text/plain": [
       "[Text(167.4, 190.26, 'X[2] <= 120.5\\nmse = 74.358\\nsamples = 352\\nvalue = 25.17'),\n",
       " Text(83.7, 135.9, 'X[3] <= 77.5\\nmse = 41.385\\nsamples = 141\\nvalue = 32.605'),\n",
       " Text(41.85, 81.53999999999999, 'X[4] <= 85.0\\nmse = 18.845\\nsamples = 57\\nvalue = 27.667'),\n",
       " Text(20.925, 27.180000000000007, 'mse = 10.422\\nsamples = 38\\nvalue = 29.658'),\n",
       " Text(62.775000000000006, 27.180000000000007, 'mse = 11.9\\nsamples = 19\\nvalue = 23.684'),\n",
       " Text(125.55000000000001, 81.53999999999999, 'X[0] <= 21.1\\nmse = 28.903\\nsamples = 84\\nvalue = 35.956'),\n",
       " Text(104.625, 27.180000000000007, 'mse = 22.236\\nsamples = 72\\nvalue = 34.678'),\n",
       " Text(146.475, 27.180000000000007, 'mse = 0.287\\nsamples = 12\\nvalue = 43.625'),\n",
       " Text(251.10000000000002, 135.9, 'X[4] <= 122.5\\nmse = 34.76\\nsamples = 211\\nvalue = 20.201'),\n",
       " Text(209.25, 81.53999999999999, 'X[3] <= 78.5\\nmse = 23.025\\nsamples = 149\\nvalue = 22.846'),\n",
       " Text(188.32500000000002, 27.180000000000007, 'mse = 9.747\\nsamples = 91\\nvalue = 20.371'),\n",
       " Text(230.175, 27.180000000000007, 'mse = 19.183\\nsamples = 58\\nvalue = 26.728'),\n",
       " Text(292.95, 81.53999999999999, 'X[3] <= 74.5\\nmse = 5.756\\nsamples = 62\\nvalue = 13.845'),\n",
       " Text(272.02500000000003, 27.180000000000007, 'mse = 4.074\\nsamples = 41\\nvalue = 12.78'),\n",
       " Text(313.875, 27.180000000000007, 'mse = 2.508\\nsamples = 21\\nvalue = 15.924')]"
      ]
     },
     "execution_count": 14,
     "metadata": {},
     "output_type": "execute_result"
    },
    {
     "data": {
      "image/png": "[encoded data removed]",
      "text/plain": [
       "<Figure size 432x288 with 1 Axes>"
      ]
     },
     "metadata": {
      "needs_background": "light"
     },
     "output_type": "display_data"
    }
   ],
   "source": [
    "from sklearn.tree import plot_tree\n",
    "plot_tree(model.estimators_[2],filled=True)\n",
    "\n",
    "#reduce depth to get a clear picture with values\n",
    "# model.estimators_[i] here i can be 0 to 21 since we have 22 estimators"
   ]
  },
  {
   "cell_type": "code",
   "execution_count": null,
   "metadata": {},
   "outputs": [],
   "source": []
  }
 ],
 "metadata": {
  "kernelspec": {
   "display_name": "Python 3",
   "language": "python",
   "name": "python3"
  },
  "language_info": {
   "codemirror_mode": {
    "name": "ipython",
    "version": 3
   },
   "file_extension": ".py",
   "mimetype": "text/x-python",
   "name": "python",
   "nbconvert_exporter": "python",
   "pygments_lexer": "ipython3",
   "version": "3.8.3"
  }
 },
 "nbformat": 4,
 "nbformat_minor": 4
}
